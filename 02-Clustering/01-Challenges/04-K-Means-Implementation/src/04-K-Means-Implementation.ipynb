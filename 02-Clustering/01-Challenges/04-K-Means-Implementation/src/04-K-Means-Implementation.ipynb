{
 "cells": [
  {
   "cell_type": "markdown",
   "metadata": {},
   "source": [
    "# 04 - K-Means Implementation"
   ]
  },
  {
   "cell_type": "markdown",
   "metadata": {},
   "source": [
    "Today we will code by ourself a K-Means clustering algorithm."
   ]
  },
  {
   "cell_type": "markdown",
   "metadata": {},
   "source": [
    "---"
   ]
  },
  {
   "cell_type": "markdown",
   "metadata": {},
   "source": [
    "![](https://www.staleystire.com/Portals/118/xBlog/uploads/2018/11/8/sam-loyd-1066267-unsplash.jpg)"
   ]
  },
  {
   "cell_type": "markdown",
   "metadata": {},
   "source": [
    "---"
   ]
  },
  {
   "cell_type": "markdown",
   "metadata": {},
   "source": [
    "We will begin by generating a sample data for testing purposes."
   ]
  },
  {
   "cell_type": "code",
   "execution_count": 83,
   "metadata": {
    "scrolled": false
   },
   "outputs": [
    {
     "data": {
      "text/plain": [
       "array([[ 2.97627008,  6.30378733,  4.05526752,  2.89766366,  0.47309599,\n",
       "         4.91788226,  0.75174423,  9.83546002, 11.27325521, -0.33116962,\n",
       "         7.83450076,  2.5778984 ,  3.36089122, 10.51193277, -6.57927884,\n",
       "        -6.25741401, -7.59563205,  8.65239691,  7.56313502,  9.40024296],\n",
       "       [11.57236684,  7.98317128,  1.22958725,  7.61058353, -5.63451148,\n",
       "         4.79842043, -5.13293425, 10.89337834,  2.43696644,  0.2932388 ,\n",
       "        -2.70888776,  7.48467379,  1.12300664,  3.36867898, -7.62420399,\n",
       "         4.35270994,  4.24191445,  4.33867994, 10.87496157,  5.63640598]])"
      ]
     },
     "execution_count": 83,
     "metadata": {},
     "output_type": "execute_result"
    }
   ],
   "source": [
    "import numpy as np\n",
    "np.random.seed(0)\n",
    "x = np.random.rand(2, 20)*20-8\n",
    "x"
   ]
  },
  {
   "cell_type": "markdown",
   "metadata": {},
   "source": [
    "### 1. Compute the center"
   ]
  },
  {
   "cell_type": "markdown",
   "metadata": {},
   "source": [
    "Let's start by implementing a function that compute the center of a cluster: the function `compute_center(x)` that returns a 1D numpy array.\n",
    "\n",
    "Here we assume that x is a 2D numpy array of shape (2, number of samples).\n",
    "\n",
    "So basically, given an array of points, you have to compute the gravity center of this array (the mean value). Then test the result."
   ]
  },
  {
   "cell_type": "code",
   "execution_count": 84,
   "metadata": {},
   "outputs": [
    {
     "name": "stdout",
     "output_type": "stream",
     "text": [
      "(2,)\n"
     ]
    },
    {
     "data": {
      "text/plain": [
       "array([3.63109649, 3.35691034])"
      ]
     },
     "execution_count": 84,
     "metadata": {},
     "output_type": "execute_result"
    }
   ],
   "source": [
    "# TODO: implement the function compute_center(x)\n",
    "\"\"\"\n",
    "input:\n",
    "- array of pts\n",
    "output:\n",
    "- center coordinates\n",
    "\"\"\"\n",
    "def compute_center(x):\n",
    "    return x.mean(axis=1)\n",
    "\n",
    "center = compute_center(x)\n",
    "print(center.shape)\n",
    "center"
   ]
  },
  {
   "cell_type": "markdown",
   "metadata": {},
   "source": [
    "### 2. Euclidian distance"
   ]
  },
  {
   "cell_type": "markdown",
   "metadata": {},
   "source": [
    "Let's now compute the distance between a cluster center and a bunch of points.\n",
    "Implement yourself the method `dist(x, center)` that returns the euclidian distance between x and the center.\n",
    "\n",
    "`x` is a 2D numpy arrays of shape *(2, number of samples)*."
   ]
  },
  {
   "cell_type": "code",
   "execution_count": 85,
   "metadata": {},
   "outputs": [],
   "source": [
    "import math"
   ]
  },
  {
   "cell_type": "code",
   "execution_count": 86,
   "metadata": {},
   "outputs": [
    {
     "ename": "TypeError",
     "evalue": "only size-1 arrays can be converted to Python scalars",
     "output_type": "error",
     "traceback": [
      "\u001b[0;31m---------------------------------------------------------------------------\u001b[0m",
      "\u001b[0;31mTypeError\u001b[0m                                 Traceback (most recent call last)",
      "Cell \u001b[0;32mIn [86], line 13\u001b[0m\n\u001b[1;32m     10\u001b[0m     sum_squares \u001b[38;5;241m=\u001b[39m (x[\u001b[38;5;241m0\u001b[39m] \u001b[38;5;241m-\u001b[39m center[\u001b[38;5;241m0\u001b[39m]) \u001b[38;5;241m*\u001b[39m\u001b[38;5;241m*\u001b[39m \u001b[38;5;241m2\u001b[39m \u001b[38;5;241m+\u001b[39m (x[\u001b[38;5;241m1\u001b[39m] \u001b[38;5;241m-\u001b[39m center[\u001b[38;5;241m1\u001b[39m]) \u001b[38;5;241m*\u001b[39m\u001b[38;5;241m*\u001b[39m \u001b[38;5;241m2\u001b[39m\n\u001b[1;32m     11\u001b[0m     \u001b[38;5;28;01mreturn\u001b[39;00m math\u001b[38;5;241m.\u001b[39msqrt(sum_squares)\n\u001b[0;32m---> 13\u001b[0m \u001b[38;5;28mprint\u001b[39m(\u001b[43meuclid_dist\u001b[49m\u001b[43m(\u001b[49m\u001b[43mx\u001b[49m\u001b[43m,\u001b[49m\u001b[43m \u001b[49m\u001b[43mcenter\u001b[49m\u001b[43m)\u001b[49m)\n",
      "Cell \u001b[0;32mIn [86], line 11\u001b[0m, in \u001b[0;36meuclid_dist\u001b[0;34m(x, center)\u001b[0m\n\u001b[1;32m      7\u001b[0m \u001b[38;5;28;01mdef\u001b[39;00m \u001b[38;5;21meuclid_dist\u001b[39m(x, center):\n\u001b[1;32m      8\u001b[0m     \u001b[38;5;66;03m#if x.shape[1] != 2 or center.shape[1] != 2:\u001b[39;00m\n\u001b[1;32m      9\u001b[0m     \u001b[38;5;66;03m#    return 'Erreur: 2D arrays attendus'\u001b[39;00m\n\u001b[1;32m     10\u001b[0m     sum_squares \u001b[38;5;241m=\u001b[39m (x[\u001b[38;5;241m0\u001b[39m] \u001b[38;5;241m-\u001b[39m center[\u001b[38;5;241m0\u001b[39m]) \u001b[38;5;241m*\u001b[39m\u001b[38;5;241m*\u001b[39m \u001b[38;5;241m2\u001b[39m \u001b[38;5;241m+\u001b[39m (x[\u001b[38;5;241m1\u001b[39m] \u001b[38;5;241m-\u001b[39m center[\u001b[38;5;241m1\u001b[39m]) \u001b[38;5;241m*\u001b[39m\u001b[38;5;241m*\u001b[39m \u001b[38;5;241m2\u001b[39m\n\u001b[0;32m---> 11\u001b[0m     \u001b[38;5;28;01mreturn\u001b[39;00m \u001b[43mmath\u001b[49m\u001b[38;5;241;43m.\u001b[39;49m\u001b[43msqrt\u001b[49m\u001b[43m(\u001b[49m\u001b[43msum_squares\u001b[49m\u001b[43m)\u001b[49m\n",
      "\u001b[0;31mTypeError\u001b[0m: only size-1 arrays can be converted to Python scalars"
     ]
    }
   ],
   "source": [
    "# TODO: implement the function dist(x, center)\n",
    "\"\"\"\n",
    "input:\n",
    "- x: 2D array\n",
    "- center: 2D array\n",
    "\"\"\"\n",
    "def euclid_dist(x, center):\n",
    "    #if x.shape[1] != 2 or center.shape[1] != 2:\n",
    "    #    return 'Erreur: 2D arrays attendus'\n",
    "    sum_squares = (x[0] - center[0]) ** 2 + (x[1] - center[1]) ** 2\n",
    "    return math.sqrt(sum_squares)\n",
    "\n",
    "print(euclid_dist(x, center))"
   ]
  },
  {
   "cell_type": "markdown",
   "metadata": {},
   "source": [
    "### 3. Find closest center"
   ]
  },
  {
   "cell_type": "markdown",
   "metadata": {},
   "source": [
    "Code the function `find_closest(sample, centers)` that finds the closest center and returns its index.\n",
    "\n",
    "This functions takes as input a value `sample` of shape (2) for the coordinates, and `centers` of shape (2, K). \n",
    "\n",
    "It returns the index (between 0 and K-1) of the closest center."
   ]
  },
  {
   "cell_type": "code",
   "execution_count": 75,
   "metadata": {},
   "outputs": [],
   "source": [
    "# TODO: implement the function find_closest(x, centers)\n",
    "\n",
    "def find_closest(x, centers):\n",
    "    # compute the closest center\n",
    "    nb_clusters = centers.shape[1]\n",
    "    min_dist = 10 ** 15 # voir comment faire autrement\n",
    "    k_closest = -1\n",
    "    for k in range(0, nb_clusters):\n",
    "        center = centers[:, k]\n",
    "        print(f'find_closest centers: {centers}')\n",
    "        dist = euclid_dist(x, center)\n",
    "        if dist < min_dist:\n",
    "            min_dist = dist\n",
    "            k_closest = k\n",
    "    return k_closest"
   ]
  },
  {
   "cell_type": "markdown",
   "metadata": {},
   "source": [
    "### 4. Initialization"
   ]
  },
  {
   "cell_type": "markdown",
   "metadata": {},
   "source": [
    "Now let's make the `initialization(K)` function. This function takes as input `K`: the number of clusters.\n",
    "\n",
    "It returns a 2D numpy array of shape (2, K): K centers of 2 values (the coordinates), between -10 and 10 for this exercise.\n",
    "\n",
    "> 🔦**Hint**: use the function *np.random.rand()* and multiply/add values to it in order to reach values between -10 and 10"
   ]
  },
  {
   "cell_type": "code",
   "execution_count": 76,
   "metadata": {},
   "outputs": [
    {
     "data": {
      "text/plain": [
       "array([[-2.80984199, -1.25936092,  3.95262392],\n",
       "       [-8.79549057,  3.33533431,  3.41275739]])"
      ]
     },
     "execution_count": 76,
     "metadata": {},
     "output_type": "execute_result"
    }
   ],
   "source": [
    "# TODO: implement initialization(K)\n",
    "# initial clusters seeding\n",
    "def initialization(K):\n",
    "    centers = (np.random.rand(2, K) - 0.5) * 20\n",
    "    return centers\n",
    "\n",
    "centers = initialization(3)\n",
    "centers"
   ]
  },
  {
   "cell_type": "markdown",
   "metadata": {},
   "source": [
    "### 5. Assignment"
   ]
  },
  {
   "cell_type": "markdown",
   "metadata": {},
   "source": [
    "Now let's make the `assigment(x, centers)` function!\n",
    "This function takes as input a 2D numpy array of values `x` (shape (2, number of samples)), and a 2D numpy array of centers `centers` (shape (2, K)). This function should return a 1D array of indices (shape (number of samples): for each `x` it returns the index of the closest center in `centers`."
   ]
  },
  {
   "cell_type": "code",
   "execution_count": 77,
   "metadata": {},
   "outputs": [],
   "source": [
    "# TODO: implement the method assignment(x, centers)\n",
    "def assignment(x, centers):\n",
    "    closest_centers = []  ##np.zeros(2, centers.shape[1])\n",
    "    print(f'x.shape: {x.shape}')\n",
    "    for i in range(0, x.shape[1]):\n",
    "        closest_center_idx = find_closest(x[:,i], centers)\n",
    "        closest_centers.append(closest_center_idx)   ###closest_centers.append(closest_centers, closest_center)\n",
    "    closest_centers = np.array(closest_centers)\n",
    "    print(f'type(closest_centers): {type(closest_centers)}')\n",
    "    print(f'closest shape: {closest_centers.shape}')\n",
    "    return closest_centers #shape(nb samples)"
   ]
  },
  {
   "cell_type": "markdown",
   "metadata": {},
   "source": [
    "### 6. Update"
   ]
  },
  {
   "cell_type": "markdown",
   "metadata": {},
   "source": [
    "Now we will implement the function `update(x, closest, K)`  that will update the centers' coordinate.\n",
    "\n",
    "This function takes as input the data `x` of shape (2, number of samples), the closest clusters of each sample in `closest` of shape (number of sample) and `K` the number of clusters.\n",
    "\n",
    "It will return new centers of shape (2, K).\n",
    "\n",
    "This function will use the function *compute_center*."
   ]
  },
  {
   "cell_type": "code",
   "execution_count": 78,
   "metadata": {},
   "outputs": [],
   "source": [
    "# TODO: implement the function update(x, closest)\n",
    "# question : à quoi sert ici le paramètre K ?\n",
    "\n",
    "\"\"\"\n",
    "x  :(2, nb samples)\n",
    "closest: (nb_samples): idx of closest center for each x value\n",
    "\n",
    "calculer les barycentres pour chaque sous-ensemble de points selon leur affectation\n",
    "centers =\n",
    "x: c1_x, c2_x, ..., ck_x\n",
    "y: c1_y, c2_y, ..., ck_y\n",
    "\"\"\"\n",
    "def update(x, closest, K):\n",
    "    #print(f'x.shape[1]: {x.shape[1]}')\n",
    "    centers = []\n",
    "    #print(f'closest shape: {closest.shape}')\n",
    "    for k in range(0, K):\n",
    "        #print(f'k: {k}')\n",
    "        # get the points of x labelled to cluster #k\n",
    "        subset = []\n",
    "        for i in range(0, x.shape[1]):\n",
    "            #print(f'i: {i}')\n",
    "            #print(f'closest[i]: {closest[i]}')\n",
    "            if closest[i] == k:\n",
    "                #print(f'x[:, i]: {x[:, i]}')\n",
    "                subset.append(x[:, i])\n",
    "        subset = np.transpose(np.array(subset))\n",
    "        print(f'subset.shape: {subset.shape}')\n",
    "        # compute center of subset #k\n",
    "        center = compute_center(subset)\n",
    "        print(f'center: {center}')\n",
    "        centers.append(center)\n",
    "\n",
    "    return np.transpose(np.array(centers)) #shape(2, K)"
   ]
  },
  {
   "cell_type": "markdown",
   "metadata": {},
   "source": [
    "### 7. Final algorithm"
   ]
  },
  {
   "cell_type": "markdown",
   "metadata": {},
   "source": [
    "Finally let's make the complete algorithm! We will begin with an easier algorithm, just making one iteration. Meaning a function doing only initialization, assignment and then update.\n",
    "\n",
    "You will define a function called `kmeans_noiter(x, K)`, that reuses initialization, assignment and update functions implemented previously."
   ]
  },
  {
   "cell_type": "code",
   "execution_count": 79,
   "metadata": {},
   "outputs": [],
   "source": [
    "# TODO: implement the function kmeans_noiter(x, K)\n",
    "# 1. initialization\n",
    "# 2. assignment\n",
    "# 3. update\n",
    "def kmeans_noiter(x, K):\n",
    "    centers = initialization(K)\n",
    "    #print(f'centers init: {centers}')\n",
    "    closest_centers_idx = assignment(x, centers)\n",
    "    new_centers = update(x, closest_centers_idx, K)\n",
    "    return new_centers"
   ]
  },
  {
   "cell_type": "code",
   "execution_count": 80,
   "metadata": {},
   "outputs": [
    {
     "name": "stdout",
     "output_type": "stream",
     "text": [
      "x.shape: (2, 20)\n",
      "find_closest centers: [[-5.79234878 -7.42147405 -3.69143298]\n",
      " [-2.72578458  1.40393541 -1.22796973]]\n",
      "find_closest centers: [[-5.79234878 -7.42147405 -3.69143298]\n",
      " [-2.72578458  1.40393541 -1.22796973]]\n",
      "find_closest centers: [[-5.79234878 -7.42147405 -3.69143298]\n",
      " [-2.72578458  1.40393541 -1.22796973]]\n",
      "find_closest centers: [[-5.79234878 -7.42147405 -3.69143298]\n",
      " [-2.72578458  1.40393541 -1.22796973]]\n",
      "find_closest centers: [[-5.79234878 -7.42147405 -3.69143298]\n",
      " [-2.72578458  1.40393541 -1.22796973]]\n",
      "find_closest centers: [[-5.79234878 -7.42147405 -3.69143298]\n",
      " [-2.72578458  1.40393541 -1.22796973]]\n",
      "find_closest centers: [[-5.79234878 -7.42147405 -3.69143298]\n",
      " [-2.72578458  1.40393541 -1.22796973]]\n",
      "find_closest centers: [[-5.79234878 -7.42147405 -3.69143298]\n",
      " [-2.72578458  1.40393541 -1.22796973]]\n",
      "find_closest centers: [[-5.79234878 -7.42147405 -3.69143298]\n",
      " [-2.72578458  1.40393541 -1.22796973]]\n",
      "find_closest centers: [[-5.79234878 -7.42147405 -3.69143298]\n",
      " [-2.72578458  1.40393541 -1.22796973]]\n",
      "find_closest centers: [[-5.79234878 -7.42147405 -3.69143298]\n",
      " [-2.72578458  1.40393541 -1.22796973]]\n",
      "find_closest centers: [[-5.79234878 -7.42147405 -3.69143298]\n",
      " [-2.72578458  1.40393541 -1.22796973]]\n",
      "find_closest centers: [[-5.79234878 -7.42147405 -3.69143298]\n",
      " [-2.72578458  1.40393541 -1.22796973]]\n",
      "find_closest centers: [[-5.79234878 -7.42147405 -3.69143298]\n",
      " [-2.72578458  1.40393541 -1.22796973]]\n",
      "find_closest centers: [[-5.79234878 -7.42147405 -3.69143298]\n",
      " [-2.72578458  1.40393541 -1.22796973]]\n",
      "find_closest centers: [[-5.79234878 -7.42147405 -3.69143298]\n",
      " [-2.72578458  1.40393541 -1.22796973]]\n",
      "find_closest centers: [[-5.79234878 -7.42147405 -3.69143298]\n",
      " [-2.72578458  1.40393541 -1.22796973]]\n",
      "find_closest centers: [[-5.79234878 -7.42147405 -3.69143298]\n",
      " [-2.72578458  1.40393541 -1.22796973]]\n",
      "find_closest centers: [[-5.79234878 -7.42147405 -3.69143298]\n",
      " [-2.72578458  1.40393541 -1.22796973]]\n",
      "find_closest centers: [[-5.79234878 -7.42147405 -3.69143298]\n",
      " [-2.72578458  1.40393541 -1.22796973]]\n",
      "find_closest centers: [[-5.79234878 -7.42147405 -3.69143298]\n",
      " [-2.72578458  1.40393541 -1.22796973]]\n",
      "find_closest centers: [[-5.79234878 -7.42147405 -3.69143298]\n",
      " [-2.72578458  1.40393541 -1.22796973]]\n",
      "find_closest centers: [[-5.79234878 -7.42147405 -3.69143298]\n",
      " [-2.72578458  1.40393541 -1.22796973]]\n",
      "find_closest centers: [[-5.79234878 -7.42147405 -3.69143298]\n",
      " [-2.72578458  1.40393541 -1.22796973]]\n",
      "find_closest centers: [[-5.79234878 -7.42147405 -3.69143298]\n",
      " [-2.72578458  1.40393541 -1.22796973]]\n",
      "find_closest centers: [[-5.79234878 -7.42147405 -3.69143298]\n",
      " [-2.72578458  1.40393541 -1.22796973]]\n",
      "find_closest centers: [[-5.79234878 -7.42147405 -3.69143298]\n",
      " [-2.72578458  1.40393541 -1.22796973]]\n",
      "find_closest centers: [[-5.79234878 -7.42147405 -3.69143298]\n",
      " [-2.72578458  1.40393541 -1.22796973]]\n",
      "find_closest centers: [[-5.79234878 -7.42147405 -3.69143298]\n",
      " [-2.72578458  1.40393541 -1.22796973]]\n",
      "find_closest centers: [[-5.79234878 -7.42147405 -3.69143298]\n",
      " [-2.72578458  1.40393541 -1.22796973]]\n",
      "find_closest centers: [[-5.79234878 -7.42147405 -3.69143298]\n",
      " [-2.72578458  1.40393541 -1.22796973]]\n",
      "find_closest centers: [[-5.79234878 -7.42147405 -3.69143298]\n",
      " [-2.72578458  1.40393541 -1.22796973]]\n",
      "find_closest centers: [[-5.79234878 -7.42147405 -3.69143298]\n",
      " [-2.72578458  1.40393541 -1.22796973]]\n",
      "find_closest centers: [[-5.79234878 -7.42147405 -3.69143298]\n",
      " [-2.72578458  1.40393541 -1.22796973]]\n",
      "find_closest centers: [[-5.79234878 -7.42147405 -3.69143298]\n",
      " [-2.72578458  1.40393541 -1.22796973]]\n",
      "find_closest centers: [[-5.79234878 -7.42147405 -3.69143298]\n",
      " [-2.72578458  1.40393541 -1.22796973]]\n",
      "find_closest centers: [[-5.79234878 -7.42147405 -3.69143298]\n",
      " [-2.72578458  1.40393541 -1.22796973]]\n",
      "find_closest centers: [[-5.79234878 -7.42147405 -3.69143298]\n",
      " [-2.72578458  1.40393541 -1.22796973]]\n",
      "find_closest centers: [[-5.79234878 -7.42147405 -3.69143298]\n",
      " [-2.72578458  1.40393541 -1.22796973]]\n",
      "find_closest centers: [[-5.79234878 -7.42147405 -3.69143298]\n",
      " [-2.72578458  1.40393541 -1.22796973]]\n",
      "find_closest centers: [[-5.79234878 -7.42147405 -3.69143298]\n",
      " [-2.72578458  1.40393541 -1.22796973]]\n",
      "find_closest centers: [[-5.79234878 -7.42147405 -3.69143298]\n",
      " [-2.72578458  1.40393541 -1.22796973]]\n",
      "find_closest centers: [[-5.79234878 -7.42147405 -3.69143298]\n",
      " [-2.72578458  1.40393541 -1.22796973]]\n",
      "find_closest centers: [[-5.79234878 -7.42147405 -3.69143298]\n",
      " [-2.72578458  1.40393541 -1.22796973]]\n",
      "find_closest centers: [[-5.79234878 -7.42147405 -3.69143298]\n",
      " [-2.72578458  1.40393541 -1.22796973]]\n",
      "find_closest centers: [[-5.79234878 -7.42147405 -3.69143298]\n",
      " [-2.72578458  1.40393541 -1.22796973]]\n",
      "find_closest centers: [[-5.79234878 -7.42147405 -3.69143298]\n",
      " [-2.72578458  1.40393541 -1.22796973]]\n",
      "find_closest centers: [[-5.79234878 -7.42147405 -3.69143298]\n",
      " [-2.72578458  1.40393541 -1.22796973]]\n",
      "find_closest centers: [[-5.79234878 -7.42147405 -3.69143298]\n",
      " [-2.72578458  1.40393541 -1.22796973]]\n",
      "find_closest centers: [[-5.79234878 -7.42147405 -3.69143298]\n",
      " [-2.72578458  1.40393541 -1.22796973]]\n",
      "find_closest centers: [[-5.79234878 -7.42147405 -3.69143298]\n",
      " [-2.72578458  1.40393541 -1.22796973]]\n",
      "find_closest centers: [[-5.79234878 -7.42147405 -3.69143298]\n",
      " [-2.72578458  1.40393541 -1.22796973]]\n",
      "find_closest centers: [[-5.79234878 -7.42147405 -3.69143298]\n",
      " [-2.72578458  1.40393541 -1.22796973]]\n",
      "find_closest centers: [[-5.79234878 -7.42147405 -3.69143298]\n",
      " [-2.72578458  1.40393541 -1.22796973]]\n",
      "find_closest centers: [[-5.79234878 -7.42147405 -3.69143298]\n",
      " [-2.72578458  1.40393541 -1.22796973]]\n",
      "find_closest centers: [[-5.79234878 -7.42147405 -3.69143298]\n",
      " [-2.72578458  1.40393541 -1.22796973]]\n",
      "find_closest centers: [[-5.79234878 -7.42147405 -3.69143298]\n",
      " [-2.72578458  1.40393541 -1.22796973]]\n",
      "find_closest centers: [[-5.79234878 -7.42147405 -3.69143298]\n",
      " [-2.72578458  1.40393541 -1.22796973]]\n",
      "find_closest centers: [[-5.79234878 -7.42147405 -3.69143298]\n",
      " [-2.72578458  1.40393541 -1.22796973]]\n",
      "find_closest centers: [[-5.79234878 -7.42147405 -3.69143298]\n",
      " [-2.72578458  1.40393541 -1.22796973]]\n",
      "type(closest_centers): <class 'numpy.ndarray'>\n",
      "closest shape: (20,)\n",
      "subset.shape: (2, 1)\n",
      "center: [-6.57927884 -7.62420399]\n",
      "subset.shape: (2, 2)\n",
      "center: [-6.92652303  4.2973122 ]\n",
      "subset.shape: (2, 17)\n",
      "center: [5.47377969 3.89222272]\n"
     ]
    },
    {
     "data": {
      "text/plain": [
       "(2, 3)"
      ]
     },
     "execution_count": 80,
     "metadata": {},
     "output_type": "execute_result"
    }
   ],
   "source": [
    "# test de la fcn\n",
    "centers = kmeans_noiter(x, 3)\n",
    "#print(f'centers: {centers}')\n",
    "centers.shape #(2,3) attendu"
   ]
  },
  {
   "cell_type": "code",
   "execution_count": 81,
   "metadata": {},
   "outputs": [
    {
     "name": "stdout",
     "output_type": "stream",
     "text": [
      "(2, 20)\n"
     ]
    },
    {
     "data": {
      "image/png": "[encoded data removed]",
      "text/plain": [
       "<Figure size 640x480 with 1 Axes>"
      ]
     },
     "metadata": {},
     "output_type": "display_data"
    }
   ],
   "source": [
    "# display the clusters\n",
    "import matplotlib.pyplot as plt\n",
    "\n",
    "print(x.shape)\n",
    "\n",
    "plt.scatter(x[0,:], x[1,:], c='blue', marker='.')\n",
    "# display the clusters centers\n",
    "plt.scatter(centers[0,:], centers[1,:], marker=\"*\", s=200, c='red')\n",
    "plt.show()"
   ]
  },
  {
   "cell_type": "markdown",
   "metadata": {},
   "source": [
    "### 8. Iterations improvement"
   ]
  },
  {
   "cell_type": "markdown",
   "metadata": {},
   "source": [
    "Then to make it really good, we have to make a slight change. A loop has to be added around the assignment and update parts.\n",
    "\n",
    "In this loop you have to take the mean value of the difference between the old and the new centers. While the absolute value of this difference is above a small value, e.g. 0.01, keep looping.\n",
    "\n",
    "You will defined the function `kmeans(x, K)` doing so."
   ]
  },
  {
   "cell_type": "code",
   "execution_count": 8,
   "metadata": {},
   "outputs": [],
   "source": [
    "# TODO: implement the function kmeans(x, K)"
   ]
  },
  {
   "cell_type": "markdown",
   "metadata": {},
   "source": [
    "### 9. Visualization"
   ]
  },
  {
   "cell_type": "markdown",
   "metadata": {},
   "source": [
    "Now plot the clustered data, with three differents colors and clusters centers with stars."
   ]
  },
  {
   "cell_type": "code",
   "execution_count": 9,
   "metadata": {
    "scrolled": true
   },
   "outputs": [],
   "source": [
    "# TODO: plot a scatter plot of the data clusters and cluster centers"
   ]
  },
  {
   "cell_type": "code",
   "execution_count": null,
   "metadata": {},
   "outputs": [],
   "source": []
  }
 ],
 "metadata": {
  "kernelspec": {
   "display_name": "Python 3",
   "language": "python",
   "name": "python3"
  },
  "language_info": {
   "codemirror_mode": {
    "name": "ipython",
    "version": 3
   },
   "file_extension": ".py",
   "mimetype": "text/x-python",
   "name": "python",
   "nbconvert_exporter": "python",
   "pygments_lexer": "ipython3",
   "version": "3.10.12"
  }
 },
 "nbformat": 4,
 "nbformat_minor": 2
}
